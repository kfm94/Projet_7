{
 "cells": [
  {
   "cell_type": "code",
   "execution_count": null,
   "id": "5439c212",
   "metadata": {},
   "outputs": [],
   "source": [
    "import streamlit as st\n",
    "import requests\n",
    "\n",
    "# Définir l'URL de votre API\n",
    "API_URL = \"http://localhost:8010\"\n",
    "\n",
    "def predict_proba(cust_id):\n",
    "    # Appeler l'API pour obtenir la probabilité de défaut de remboursement\n",
    "    response = requests.get(f\"{API_URL}/predict/id={cust_id}\")\n",
    "    if response.status_code == 200:\n",
    "        return response.json()['proba']\n",
    "    else:\n",
    "        st.error(\"Erreur lors de l'appel à l'API\")\n",
    "\n",
    "st.title('Scoring Dashboard')\n",
    "\n",
    "cust_id = st.slider('Sélectionnez un identifiant client:', 0, 999, step=1)\n",
    "proba = predict_proba(cust_id)\n",
    "\n",
    "if proba is not None:\n",
    "    st.write(f\"Probabilité de défaut de remboursement pour le client {cust_id}: {proba:.4f}\")\n"
   ]
  }
 ],
 "metadata": {
  "kernelspec": {
   "display_name": "Python 3 (ipykernel)",
   "language": "python",
   "name": "python3"
  },
  "language_info": {
   "codemirror_mode": {
    "name": "ipython",
    "version": 3
   },
   "file_extension": ".py",
   "mimetype": "text/x-python",
   "name": "python",
   "nbconvert_exporter": "python",
   "pygments_lexer": "ipython3",
   "version": "3.9.18"
  }
 },
 "nbformat": 4,
 "nbformat_minor": 5
}
